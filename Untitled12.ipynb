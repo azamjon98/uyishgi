{
  "nbformat": 4,
  "nbformat_minor": 0,
  "metadata": {
    "colab": {
      "private_outputs": true,
      "provenance": [],
      "authorship_tag": "ABX9TyOHhOVcZy+iMmmaEdLRvq0y",
      "include_colab_link": true
    },
    "kernelspec": {
      "name": "python3",
      "display_name": "Python 3"
    },
    "language_info": {
      "name": "python"
    }
  },
  "cells": [
    {
      "cell_type": "markdown",
      "metadata": {
        "id": "view-in-github",
        "colab_type": "text"
      },
      "source": [
        "<a href=\"https://colab.research.google.com/github/azamjon98/uyishgi/blob/main/Untitled12.ipynb\" target=\"_parent\"><img src=\"https://colab.research.google.com/assets/colab-badge.svg\" alt=\"Open In Colab\"/></a>"
      ]
    },
    {
      "cell_type": "code",
      "execution_count": null,
      "metadata": {
        "id": "taqeB1GWsTvU"
      },
      "outputs": [],
      "source": []
    },
    {
      "cell_type": "markdown",
      "source": [
        "# Feature Selection Techniques\n",
        "\n",
        "## 1. Chi-Square Test\n",
        "\n",
        "**When to use:**\n",
        "- **Feature Type**: Categorical\n",
        "- **Target Type**: Categorical\n",
        "\n",
        "**Application:**\n",
        "- The Chi-Square test is used to determine if there is a significant association between categorical features and a categorical target variable.\n",
        "- It is particularly useful for feature selection in classification tasks where both the features and the target variable are categorical.\n",
        "\n",
        "**Example:**\n",
        "- Predicting customer churn (yes/no) based on categorical features like customer segment, region, etc.\n",
        "\n",
        "```python\n",
        "from sklearn.feature_selection import chi2\n",
        "from sklearn.feature_selection import SelectKBest\n",
        "\n",
        "# Example DataFrame\n",
        "X = df[['feature1', 'feature2', 'feature3']]\n",
        "y = df['target']\n",
        "\n",
        "# Compute Chi-Square scores\n",
        "chi_scores = chi2(X, y)\n",
        "\n",
        "# Select top K features\n",
        "selector = SelectKBest(chi2, k=2)\n",
        "X_new = selector.fit_transform(X, y)\n"
      ],
      "metadata": {
        "id": "HoR5RYpLsVJE"
      }
    },
    {
      "cell_type": "markdown",
      "source": [
        "## 2. F-Test (ANOVA F-value)\n",
        "\n",
        "**When to use:**\n",
        "- **Feature Type**: Continuous\n",
        "- **Target Type**: Categorical\n",
        "\n",
        "**Application:**\n",
        "- The F-test measures the linear dependency between each feature and the target variable. It is used for feature selection in classification tasks where the features are continuous and the target is categorical.\n",
        "\n",
        "**Example:**\n",
        "- Predicting species of iris plants based on continuous features like petal length, sepal width, etc.\n",
        "\n",
        "```python\n",
        "from sklearn.feature_selection import f_classif\n",
        "from sklearn.feature_selection import SelectKBest\n",
        "\n",
        "# Example DataFrame\n",
        "X = df[['feature1', 'feature2', 'feature3']]\n",
        "y = df['target']\n",
        "\n",
        "# Compute F-scores\n",
        "f_scores = f_classif(X, y)\n",
        "\n",
        "# Select top K features\n",
        "selector = SelectKBest(f_classif, k=2)\n",
        "X_new = selector.fit_transform(X, y)\n"
      ],
      "metadata": {
        "id": "4AtPW5N7sbrB"
      }
    },
    {
      "cell_type": "markdown",
      "source": [
        "## 3. Mutual Information Regression\n",
        "\n",
        "**When to use:**\n",
        "- **Feature Type**: Categorical or Continuous\n",
        "- **Target Type**: Continuous\n",
        "\n",
        "**Application:**\n",
        "- Mutual Information regression captures non-linear dependencies between each feature and the continuous target variable. It can be used for both categorical and continuous features in regression tasks.\n",
        "\n",
        "**Example:**\n",
        "- Predicting house prices based on features like number of rooms (continuous) and house type (categorical).\n",
        "\n",
        "```python\n",
        "from sklearn.feature_selection import mutual_info_regression\n",
        "\n",
        "# Example DataFrame\n",
        "X = df[['feature1', 'feature2', 'feature3']]\n",
        "y = df['target']\n",
        "\n",
        "# Compute Mutual Information scores\n",
        "mi_scores = mutual_info_regression(X, y)\n",
        "\n",
        "# Convert to a pandas Series for better visualization\n",
        "mi_scores = pd.Series(mi_scores, index=X.columns, name=\"MI Scores\")\n",
        "mi_scores = mi_scores.sort_values(ascending=False)\n"
      ],
      "metadata": {
        "id": "Eqth3sgttUfd"
      }
    },
    {
      "cell_type": "markdown",
      "source": [
        "## Summary Table\n",
        "\n",
        "| Method                        | Feature Type           | Target Type           | Use Case                                                   |\n",
        "|-------------------------------|------------------------|-----------------------|------------------------------------------------------------|\n",
        "| Chi-Square Test               | Categorical            | Categorical           | Classification with categorical features and target       |\n",
        "| F-Test (ANOVA F-value)       | Continuous             | Categorical           | Classification with continuous features and categorical target |\n",
        "| Mutual Information Regression| Categorical or Continuous | Continuous         | Regression with continuous or categorical features         |\n",
        "\n",
        "## Conclusion\n",
        "\n",
        "- **Chi-Square Test**: Use for categorical features and categorical targets.\n",
        "- **F-Test**: Use for continuous features and categorical targets.\n",
        "- **Mutual Information Regression**: Use for both categorical and continuous features when the target is continuous.\n",
        "\n",
        "Choosing the right feature selection method based on the data type ensures that the features selected are the most relevant for building effective predictive models.\n"
      ],
      "metadata": {
        "id": "z09R_Bc9tyWH"
      }
    },
    {
      "cell_type": "code",
      "source": [],
      "metadata": {
        "id": "uB17YYMmsWLv"
      },
      "execution_count": null,
      "outputs": []
    }
  ]
}