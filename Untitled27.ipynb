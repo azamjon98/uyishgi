{
  "nbformat": 4,
  "nbformat_minor": 0,
  "metadata": {
    "colab": {
      "private_outputs": true,
      "provenance": [],
      "gpuType": "T4",
      "authorship_tag": "ABX9TyOlVsJSh0SPyrNx3UKVbanT",
      "include_colab_link": true
    },
    "kernelspec": {
      "name": "python3",
      "display_name": "Python 3"
    },
    "language_info": {
      "name": "python"
    },
    "accelerator": "GPU"
  },
  "cells": [
    {
      "cell_type": "markdown",
      "metadata": {
        "id": "view-in-github",
        "colab_type": "text"
      },
      "source": [
        "<a href=\"https://colab.research.google.com/github/azamjon98/uyishgi/blob/main/Untitled27.ipynb\" target=\"_parent\"><img src=\"https://colab.research.google.com/assets/colab-badge.svg\" alt=\"Open In Colab\"/></a>"
      ]
    },
    {
      "cell_type": "code",
      "execution_count": null,
      "metadata": {
        "id": "Qrm-bt2bUNUk"
      },
      "outputs": [],
      "source": [
        "import fastai\n",
        "import torch\n",
        "\n",
        "print(fastai.__version__)\n",
        "print(torch.__version__)"
      ]
    },
    {
      "cell_type": "code",
      "source": [
        "from fastai.tabular.all import *\n",
        "import numpy as np"
      ],
      "metadata": {
        "id": "oy1_iPYLUQmg"
      },
      "execution_count": null,
      "outputs": []
    },
    {
      "cell_type": "code",
      "source": [
        "path = untar_data(URLs.ADULT_SAMPLE)  # download data\n",
        "\n",
        "dls= TabularDataLoaders.from_csv(path/'adult.csv',path=path,bs=64,y_names='salary',\n",
        "                                 cat_names=['workclass','education','marital-status','occupation','relationship','race','sex'],\n",
        "                                 cont_names=['age','fnlwgt','education-num','capital-gain','capital-loss','hours-per-week'],\n",
        "                                 procs=[Categorify,FillMissing,Normalize])\n",
        "\n",
        "# train\n",
        "learn=tabular_learner(dls,metrics=accuracy)\n",
        "\n",
        "learn.fit_one_cycle(10)"
      ],
      "metadata": {
        "id": "qRbS9pGHUYEC"
      },
      "execution_count": null,
      "outputs": []
    },
    {
      "cell_type": "code",
      "source": [
        "import pandas as pd\n",
        "\n",
        "# loading data set into dataframe\n",
        "df = pd.read_csv(path/'adult.csv')\n",
        "df.head()"
      ],
      "metadata": {
        "id": "robT8h8SVuve"
      },
      "execution_count": null,
      "outputs": []
    },
    {
      "cell_type": "code",
      "source": [
        "# test\n",
        "row, pred, probs = learn.predict(df.iloc[1])\n",
        "pred.item(), probs"
      ],
      "metadata": {
        "id": "tMAeNPgKWX8U"
      },
      "execution_count": null,
      "outputs": []
    },
    {
      "cell_type": "code",
      "source": [
        "learn.show_results(max_n=64)"
      ],
      "metadata": {
        "id": "nIxUh_g3WgIe"
      },
      "execution_count": null,
      "outputs": []
    },
    {
      "cell_type": "code",
      "source": [],
      "metadata": {
        "id": "o50Pz7_1WwHk"
      },
      "execution_count": null,
      "outputs": []
    }
  ]
}